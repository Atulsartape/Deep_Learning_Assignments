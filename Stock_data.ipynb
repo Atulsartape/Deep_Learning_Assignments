{
 "cells": [
  {
   "cell_type": "code",
   "execution_count": 16,
   "id": "473fb925-cdb0-488f-9c28-fb87d76b33c2",
   "metadata": {},
   "outputs": [],
   "source": [
    "import pandas as pd "
   ]
  },
  {
   "cell_type": "code",
   "execution_count": 17,
   "id": "55e7a12b-58d3-4b64-94d5-69bd2c8cd4a2",
   "metadata": {},
   "outputs": [],
   "source": [
    "df = pd.read_csv(r'FINAL_FROM_DF.csv')"
   ]
  },
  {
   "cell_type": "code",
   "execution_count": 19,
   "id": "d359eba8-24d3-40e3-b94f-69f8e1b7341e",
   "metadata": {},
   "outputs": [
    {
     "data": {
      "text/html": [
       "<div>\n",
       "<style scoped>\n",
       "    .dataframe tbody tr th:only-of-type {\n",
       "        vertical-align: middle;\n",
       "    }\n",
       "\n",
       "    .dataframe tbody tr th {\n",
       "        vertical-align: top;\n",
       "    }\n",
       "\n",
       "    .dataframe thead th {\n",
       "        text-align: right;\n",
       "    }\n",
       "</style>\n",
       "<table border=\"1\" class=\"dataframe\">\n",
       "  <thead>\n",
       "    <tr style=\"text-align: right;\">\n",
       "      <th></th>\n",
       "      <th>SYMBOL</th>\n",
       "      <th>SERIES</th>\n",
       "      <th>OPEN</th>\n",
       "      <th>HIGH</th>\n",
       "      <th>LOW</th>\n",
       "      <th>CLOSE</th>\n",
       "      <th>LAST</th>\n",
       "      <th>PREVCLOSE</th>\n",
       "      <th>TOTTRDQTY</th>\n",
       "      <th>TOTTRDVAL</th>\n",
       "      <th>TIMESTAMP</th>\n",
       "      <th>TOTALTRADES</th>\n",
       "      <th>ISIN</th>\n",
       "    </tr>\n",
       "  </thead>\n",
       "  <tbody>\n",
       "    <tr>\n",
       "      <th>0</th>\n",
       "      <td>20MICRONS</td>\n",
       "      <td>EQ</td>\n",
       "      <td>37.80</td>\n",
       "      <td>37.80</td>\n",
       "      <td>36.15</td>\n",
       "      <td>36.85</td>\n",
       "      <td>37.40</td>\n",
       "      <td>37.05</td>\n",
       "      <td>27130</td>\n",
       "      <td>994657.90</td>\n",
       "      <td>2017-06-28</td>\n",
       "      <td>202</td>\n",
       "      <td>INE144J01027</td>\n",
       "    </tr>\n",
       "    <tr>\n",
       "      <th>1</th>\n",
       "      <td>3IINFOTECH</td>\n",
       "      <td>EQ</td>\n",
       "      <td>4.10</td>\n",
       "      <td>4.85</td>\n",
       "      <td>4.00</td>\n",
       "      <td>4.55</td>\n",
       "      <td>4.65</td>\n",
       "      <td>4.05</td>\n",
       "      <td>20157058</td>\n",
       "      <td>92148517.65</td>\n",
       "      <td>2017-06-28</td>\n",
       "      <td>7353</td>\n",
       "      <td>INE748C01020</td>\n",
       "    </tr>\n",
       "    <tr>\n",
       "      <th>2</th>\n",
       "      <td>3MINDIA</td>\n",
       "      <td>EQ</td>\n",
       "      <td>13425.15</td>\n",
       "      <td>13469.55</td>\n",
       "      <td>12920.00</td>\n",
       "      <td>13266.70</td>\n",
       "      <td>13300.00</td>\n",
       "      <td>13460.55</td>\n",
       "      <td>2290</td>\n",
       "      <td>30304923.35</td>\n",
       "      <td>2017-06-28</td>\n",
       "      <td>748</td>\n",
       "      <td>INE470A01017</td>\n",
       "    </tr>\n",
       "    <tr>\n",
       "      <th>3</th>\n",
       "      <td>63MOONS</td>\n",
       "      <td>EQ</td>\n",
       "      <td>61.00</td>\n",
       "      <td>61.90</td>\n",
       "      <td>60.35</td>\n",
       "      <td>61.00</td>\n",
       "      <td>61.10</td>\n",
       "      <td>60.65</td>\n",
       "      <td>27701</td>\n",
       "      <td>1689421.00</td>\n",
       "      <td>2017-06-28</td>\n",
       "      <td>437</td>\n",
       "      <td>INE111B01023</td>\n",
       "    </tr>\n",
       "    <tr>\n",
       "      <th>4</th>\n",
       "      <td>8KMILES</td>\n",
       "      <td>EQ</td>\n",
       "      <td>546.10</td>\n",
       "      <td>548.00</td>\n",
       "      <td>535.00</td>\n",
       "      <td>537.45</td>\n",
       "      <td>535.20</td>\n",
       "      <td>547.45</td>\n",
       "      <td>79722</td>\n",
       "      <td>43208620.05</td>\n",
       "      <td>2017-06-28</td>\n",
       "      <td>1866</td>\n",
       "      <td>INE650K01021</td>\n",
       "    </tr>\n",
       "  </tbody>\n",
       "</table>\n",
       "</div>"
      ],
      "text/plain": [
       "       SYMBOL SERIES      OPEN      HIGH       LOW     CLOSE      LAST  \\\n",
       "0   20MICRONS     EQ     37.80     37.80     36.15     36.85     37.40   \n",
       "1  3IINFOTECH     EQ      4.10      4.85      4.00      4.55      4.65   \n",
       "2     3MINDIA     EQ  13425.15  13469.55  12920.00  13266.70  13300.00   \n",
       "3     63MOONS     EQ     61.00     61.90     60.35     61.00     61.10   \n",
       "4     8KMILES     EQ    546.10    548.00    535.00    537.45    535.20   \n",
       "\n",
       "   PREVCLOSE  TOTTRDQTY    TOTTRDVAL   TIMESTAMP  TOTALTRADES          ISIN  \n",
       "0      37.05      27130    994657.90  2017-06-28          202  INE144J01027  \n",
       "1       4.05   20157058  92148517.65  2017-06-28         7353  INE748C01020  \n",
       "2   13460.55       2290  30304923.35  2017-06-28          748  INE470A01017  \n",
       "3      60.65      27701   1689421.00  2017-06-28          437  INE111B01023  \n",
       "4     547.45      79722  43208620.05  2017-06-28         1866  INE650K01021  "
      ]
     },
     "execution_count": 19,
     "metadata": {},
     "output_type": "execute_result"
    }
   ],
   "source": [
    "df.head()"
   ]
  },
  {
   "cell_type": "code",
   "execution_count": 20,
   "id": "f1a54e7c-ed93-49f6-adc7-339639dd88c6",
   "metadata": {},
   "outputs": [],
   "source": [
    "df2 = df[['TIMESTAMP','CLOSE']]"
   ]
  },
  {
   "cell_type": "code",
   "execution_count": 21,
   "id": "eb03fdd2-b15e-4b9a-a188-8cf22ea10cd0",
   "metadata": {},
   "outputs": [
    {
     "data": {
      "text/html": [
       "<div>\n",
       "<style scoped>\n",
       "    .dataframe tbody tr th:only-of-type {\n",
       "        vertical-align: middle;\n",
       "    }\n",
       "\n",
       "    .dataframe tbody tr th {\n",
       "        vertical-align: top;\n",
       "    }\n",
       "\n",
       "    .dataframe thead th {\n",
       "        text-align: right;\n",
       "    }\n",
       "</style>\n",
       "<table border=\"1\" class=\"dataframe\">\n",
       "  <thead>\n",
       "    <tr style=\"text-align: right;\">\n",
       "      <th></th>\n",
       "      <th>TIMESTAMP</th>\n",
       "      <th>CLOSE</th>\n",
       "    </tr>\n",
       "  </thead>\n",
       "  <tbody>\n",
       "    <tr>\n",
       "      <th>0</th>\n",
       "      <td>2017-06-28</td>\n",
       "      <td>36.85</td>\n",
       "    </tr>\n",
       "    <tr>\n",
       "      <th>1</th>\n",
       "      <td>2017-06-28</td>\n",
       "      <td>4.55</td>\n",
       "    </tr>\n",
       "    <tr>\n",
       "      <th>2</th>\n",
       "      <td>2017-06-28</td>\n",
       "      <td>13266.70</td>\n",
       "    </tr>\n",
       "    <tr>\n",
       "      <th>3</th>\n",
       "      <td>2017-06-28</td>\n",
       "      <td>61.00</td>\n",
       "    </tr>\n",
       "    <tr>\n",
       "      <th>4</th>\n",
       "      <td>2017-06-28</td>\n",
       "      <td>537.45</td>\n",
       "    </tr>\n",
       "    <tr>\n",
       "      <th>...</th>\n",
       "      <td>...</td>\n",
       "      <td>...</td>\n",
       "    </tr>\n",
       "    <tr>\n",
       "      <th>846399</th>\n",
       "      <td>2017-12-29</td>\n",
       "      <td>217.00</td>\n",
       "    </tr>\n",
       "    <tr>\n",
       "      <th>846400</th>\n",
       "      <td>2017-12-29</td>\n",
       "      <td>550.80</td>\n",
       "    </tr>\n",
       "    <tr>\n",
       "      <th>846401</th>\n",
       "      <td>2017-12-29</td>\n",
       "      <td>253.25</td>\n",
       "    </tr>\n",
       "    <tr>\n",
       "      <th>846402</th>\n",
       "      <td>2017-12-29</td>\n",
       "      <td>1043.20</td>\n",
       "    </tr>\n",
       "    <tr>\n",
       "      <th>846403</th>\n",
       "      <td>2017-12-29</td>\n",
       "      <td>4.65</td>\n",
       "    </tr>\n",
       "  </tbody>\n",
       "</table>\n",
       "<p>846404 rows × 2 columns</p>\n",
       "</div>"
      ],
      "text/plain": [
       "         TIMESTAMP     CLOSE\n",
       "0       2017-06-28     36.85\n",
       "1       2017-06-28      4.55\n",
       "2       2017-06-28  13266.70\n",
       "3       2017-06-28     61.00\n",
       "4       2017-06-28    537.45\n",
       "...            ...       ...\n",
       "846399  2017-12-29    217.00\n",
       "846400  2017-12-29    550.80\n",
       "846401  2017-12-29    253.25\n",
       "846402  2017-12-29   1043.20\n",
       "846403  2017-12-29      4.65\n",
       "\n",
       "[846404 rows x 2 columns]"
      ]
     },
     "execution_count": 21,
     "metadata": {},
     "output_type": "execute_result"
    }
   ],
   "source": [
    "df2"
   ]
  },
  {
   "cell_type": "code",
   "execution_count": 22,
   "id": "e22efa27-112d-45c4-9b33-09719318e996",
   "metadata": {},
   "outputs": [
    {
     "name": "stderr",
     "output_type": "stream",
     "text": [
      "C:\\Users\\Admin\\AppData\\Local\\Temp\\ipykernel_2204\\1116359912.py:1: SettingWithCopyWarning: \n",
      "A value is trying to be set on a copy of a slice from a DataFrame.\n",
      "Try using .loc[row_indexer,col_indexer] = value instead\n",
      "\n",
      "See the caveats in the documentation: https://pandas.pydata.org/pandas-docs/stable/user_guide/indexing.html#returning-a-view-versus-a-copy\n",
      "  df2['TIMESTAMP'] = pd.to_datetime(df2['TIMESTAMP'])\n"
     ]
    }
   ],
   "source": [
    "df2['TIMESTAMP'] = pd.to_datetime(df2['TIMESTAMP'])"
   ]
  },
  {
   "cell_type": "code",
   "execution_count": 23,
   "id": "62436f4b-8a43-4d8d-9b07-13067799b031",
   "metadata": {},
   "outputs": [
    {
     "data": {
      "text/html": [
       "<div>\n",
       "<style scoped>\n",
       "    .dataframe tbody tr th:only-of-type {\n",
       "        vertical-align: middle;\n",
       "    }\n",
       "\n",
       "    .dataframe tbody tr th {\n",
       "        vertical-align: top;\n",
       "    }\n",
       "\n",
       "    .dataframe thead th {\n",
       "        text-align: right;\n",
       "    }\n",
       "</style>\n",
       "<table border=\"1\" class=\"dataframe\">\n",
       "  <thead>\n",
       "    <tr style=\"text-align: right;\">\n",
       "      <th></th>\n",
       "      <th>TIMESTAMP</th>\n",
       "      <th>CLOSE</th>\n",
       "    </tr>\n",
       "  </thead>\n",
       "  <tbody>\n",
       "    <tr>\n",
       "      <th>0</th>\n",
       "      <td>2017-06-28</td>\n",
       "      <td>36.85</td>\n",
       "    </tr>\n",
       "    <tr>\n",
       "      <th>1</th>\n",
       "      <td>2017-06-28</td>\n",
       "      <td>4.55</td>\n",
       "    </tr>\n",
       "    <tr>\n",
       "      <th>2</th>\n",
       "      <td>2017-06-28</td>\n",
       "      <td>13266.70</td>\n",
       "    </tr>\n",
       "    <tr>\n",
       "      <th>3</th>\n",
       "      <td>2017-06-28</td>\n",
       "      <td>61.00</td>\n",
       "    </tr>\n",
       "    <tr>\n",
       "      <th>4</th>\n",
       "      <td>2017-06-28</td>\n",
       "      <td>537.45</td>\n",
       "    </tr>\n",
       "  </tbody>\n",
       "</table>\n",
       "</div>"
      ],
      "text/plain": [
       "   TIMESTAMP     CLOSE\n",
       "0 2017-06-28     36.85\n",
       "1 2017-06-28      4.55\n",
       "2 2017-06-28  13266.70\n",
       "3 2017-06-28     61.00\n",
       "4 2017-06-28    537.45"
      ]
     },
     "execution_count": 23,
     "metadata": {},
     "output_type": "execute_result"
    }
   ],
   "source": [
    "df2.head()"
   ]
  },
  {
   "cell_type": "code",
   "execution_count": 26,
   "id": "691268ce-2377-4f56-ac72-d94301483d20",
   "metadata": {},
   "outputs": [
    {
     "name": "stdout",
     "output_type": "stream",
     "text": [
      "<class 'pandas.core.frame.DataFrame'>\n",
      "RangeIndex: 846404 entries, 0 to 846403\n",
      "Data columns (total 2 columns):\n",
      " #   Column     Non-Null Count   Dtype         \n",
      "---  ------     --------------   -----         \n",
      " 0   TIMESTAMP  846404 non-null  datetime64[ns]\n",
      " 1   CLOSE      846404 non-null  float64       \n",
      "dtypes: datetime64[ns](1), float64(1)\n",
      "memory usage: 12.9 MB\n"
     ]
    }
   ],
   "source": [
    "df2.info()"
   ]
  },
  {
   "cell_type": "code",
   "execution_count": 28,
   "id": "01d62b3d-068f-416b-af80-a36944113c3e",
   "metadata": {},
   "outputs": [],
   "source": [
    "df2.set_index('TIMESTAMP', inplace=True)"
   ]
  },
  {
   "cell_type": "code",
   "execution_count": 29,
   "id": "a09b1287-0685-47a1-b856-48f874d6eab0",
   "metadata": {},
   "outputs": [
    {
     "data": {
      "text/html": [
       "<div>\n",
       "<style scoped>\n",
       "    .dataframe tbody tr th:only-of-type {\n",
       "        vertical-align: middle;\n",
       "    }\n",
       "\n",
       "    .dataframe tbody tr th {\n",
       "        vertical-align: top;\n",
       "    }\n",
       "\n",
       "    .dataframe thead th {\n",
       "        text-align: right;\n",
       "    }\n",
       "</style>\n",
       "<table border=\"1\" class=\"dataframe\">\n",
       "  <thead>\n",
       "    <tr style=\"text-align: right;\">\n",
       "      <th></th>\n",
       "      <th>CLOSE</th>\n",
       "    </tr>\n",
       "    <tr>\n",
       "      <th>TIMESTAMP</th>\n",
       "      <th></th>\n",
       "    </tr>\n",
       "  </thead>\n",
       "  <tbody>\n",
       "    <tr>\n",
       "      <th>2017-06-28</th>\n",
       "      <td>36.85</td>\n",
       "    </tr>\n",
       "    <tr>\n",
       "      <th>2017-06-28</th>\n",
       "      <td>4.55</td>\n",
       "    </tr>\n",
       "    <tr>\n",
       "      <th>2017-06-28</th>\n",
       "      <td>13266.70</td>\n",
       "    </tr>\n",
       "    <tr>\n",
       "      <th>2017-06-28</th>\n",
       "      <td>61.00</td>\n",
       "    </tr>\n",
       "    <tr>\n",
       "      <th>2017-06-28</th>\n",
       "      <td>537.45</td>\n",
       "    </tr>\n",
       "    <tr>\n",
       "      <th>...</th>\n",
       "      <td>...</td>\n",
       "    </tr>\n",
       "    <tr>\n",
       "      <th>2017-12-29</th>\n",
       "      <td>217.00</td>\n",
       "    </tr>\n",
       "    <tr>\n",
       "      <th>2017-12-29</th>\n",
       "      <td>550.80</td>\n",
       "    </tr>\n",
       "    <tr>\n",
       "      <th>2017-12-29</th>\n",
       "      <td>253.25</td>\n",
       "    </tr>\n",
       "    <tr>\n",
       "      <th>2017-12-29</th>\n",
       "      <td>1043.20</td>\n",
       "    </tr>\n",
       "    <tr>\n",
       "      <th>2017-12-29</th>\n",
       "      <td>4.65</td>\n",
       "    </tr>\n",
       "  </tbody>\n",
       "</table>\n",
       "<p>846404 rows × 1 columns</p>\n",
       "</div>"
      ],
      "text/plain": [
       "               CLOSE\n",
       "TIMESTAMP           \n",
       "2017-06-28     36.85\n",
       "2017-06-28      4.55\n",
       "2017-06-28  13266.70\n",
       "2017-06-28     61.00\n",
       "2017-06-28    537.45\n",
       "...              ...\n",
       "2017-12-29    217.00\n",
       "2017-12-29    550.80\n",
       "2017-12-29    253.25\n",
       "2017-12-29   1043.20\n",
       "2017-12-29      4.65\n",
       "\n",
       "[846404 rows x 1 columns]"
      ]
     },
     "execution_count": 29,
     "metadata": {},
     "output_type": "execute_result"
    }
   ],
   "source": [
    "df2"
   ]
  },
  {
   "cell_type": "code",
   "execution_count": 30,
   "id": "0fcaac4b-0436-4436-a8e0-cfb338d3f6bf",
   "metadata": {},
   "outputs": [],
   "source": [
    "import matplotlib.pyplot as plt"
   ]
  },
  {
   "cell_type": "code",
   "execution_count": 32,
   "id": "aed9b382-8611-4b8f-b7a3-fd16a025ef55",
   "metadata": {},
   "outputs": [
    {
     "data": {
      "text/plain": [
       "[<matplotlib.lines.Line2D at 0x2e647252060>]"
      ]
     },
     "execution_count": 32,
     "metadata": {},
     "output_type": "execute_result"
    },
    {
     "data": {
      "image/png": "[encoded data removed]",
      "text/plain": [
       "<Figure size 640x480 with 1 Axes>"
      ]
     },
     "metadata": {},
     "output_type": "display_data"
    }
   ],
   "source": [
    "plt.plot(df2.index,df2['CLOSE'])"
   ]
  },
  {
   "cell_type": "code",
   "execution_count": 34,
   "id": "bb29b59f-f78d-4d72-92f8-2cbef12c8eef",
   "metadata": {},
   "outputs": [
    {
     "data": {
      "image/png": "[encoded data removed]",
      "text/plain": [
       "<Figure size 1000x600 with 1 Axes>"
      ]
     },
     "metadata": {},
     "output_type": "display_data"
    }
   ],
   "source": [
    "import matplotlib.pyplot as plt\n",
    "\n",
    "# Plot the data\n",
    "plt.figure(figsize=(10, 6))  # Optional: Customize figure size\n",
    "plt.plot(df2.index, df2['CLOSE'], label='Close Price', color='blue')  # Use 'Close' (case-sensitive)\n",
    "plt.title('Close Prices Over Time')\n",
    "plt.xlabel('Timestamp')\n",
    "plt.ylabel('Close Price')\n",
    "plt.legend()\n",
    "plt.grid(True)  # Optional: Add grid for better readability\n",
    "plt.show()\n"
   ]
  },
  {
   "cell_type": "code",
   "execution_count": 35,
   "id": "e39be1aa-de21-4f61-b20d-cf6ab61337f0",
   "metadata": {},
   "outputs": [],
   "source": [
    "from sklearn.preprocessing import MinMaxScaler\n",
    "import numpy as np\n",
    "scaler = MinMaxScaler()"
   ]
  },
  {
   "cell_type": "code",
   "execution_count": 36,
   "id": "fdfb2cae-f5d1-4d04-872c-9e6b6995e6b6",
   "metadata": {},
   "outputs": [],
   "source": [
    "df2 = scaler.fit_transform(np.array(df2).reshape(-1,1))"
   ]
  },
  {
   "cell_type": "code",
   "execution_count": 37,
   "id": "edbf9e94-c015-4e61-82a8-1435021b57fb",
   "metadata": {},
   "outputs": [
    {
     "data": {
      "text/plain": [
       "array([[3.06692352e-04],\n",
       "       [3.75031409e-05],\n",
       "       [1.10564676e-01],\n",
       "       ...,\n",
       "       [2.11017673e-03],\n",
       "       [8.69364476e-03],\n",
       "       [3.83365440e-05]])"
      ]
     },
     "execution_count": 37,
     "metadata": {},
     "output_type": "execute_result"
    }
   ],
   "source": [
    "df2"
   ]
  },
  {
   "cell_type": "code",
   "execution_count": 38,
   "id": "a3b29504-4f42-4bb0-88bf-43e5de1fad9a",
   "metadata": {},
   "outputs": [],
   "source": [
    "training_size = int(len(df2)*0.70)\n",
    "test_size = len(df2)-training_size\n",
    "train_data , test_data = df2[0:training_size,:],df2[training_size:len(df2),:1]"
   ]
  },
  {
   "cell_type": "code",
   "execution_count": 42,
   "id": "d5c89fee-557d-44b2-9f3d-b93fb885daaf",
   "metadata": {},
   "outputs": [],
   "source": [
    "import numpy"
   ]
  },
  {
   "cell_type": "code",
   "execution_count": 43,
   "id": "a1d2b218-3c59-4193-98a0-eae6a37f8406",
   "metadata": {},
   "outputs": [],
   "source": [
    "def create_dataset (dataset,time_step=1): \n",
    "    dataX,datay = [],[]\n",
    "    for i in range(len(dataset)-time_step-1): \n",
    "        a = dataset[i:(i+time_step),0]\n",
    "        dataX.append(a)\n",
    "        datay.append(dataset[i+time_step,0])\n",
    "    return numpy.array(dataX),numpy.array(datay)     "
   ]
  },
  {
   "cell_type": "code",
   "execution_count": 44,
   "id": "fd16ea6b-eebb-487f-b031-e37900655f10",
   "metadata": {},
   "outputs": [],
   "source": [
    "time_step = 100 \n",
    "X_train , y_train = create_dataset(train_data,time_step)\n",
    "X_test , y_test = create_dataset(test_data,time_step)"
   ]
  },
  {
   "cell_type": "code",
   "execution_count": 45,
   "id": "6571e24f-b421-40d7-b115-748e4f5cb569",
   "metadata": {},
   "outputs": [
    {
     "name": "stdout",
     "output_type": "stream",
     "text": [
      "(592381, 100)\n",
      "(592381,)\n"
     ]
    },
    {
     "data": {
      "text/plain": [
       "(None, None)"
      ]
     },
     "execution_count": 45,
     "metadata": {},
     "output_type": "execute_result"
    }
   ],
   "source": [
    "print(X_train.shape) , print(y_train.shape)"
   ]
  },
  {
   "cell_type": "code",
   "execution_count": 48,
   "id": "9a8eae35-278b-4950-85e2-ff66db02e7d6",
   "metadata": {},
   "outputs": [],
   "source": [
    "X_train = X_train.reshape(X_train.shape[0],X_train.shape[1],1)\n",
    "X_test = X_test.reshape(X_test.shape[0],X_test.shape[1],1)"
   ]
  },
  {
   "cell_type": "code",
   "execution_count": 49,
   "id": "89df2bf5-f05e-405f-9e89-e49a8ea04580",
   "metadata": {},
   "outputs": [],
   "source": [
    "from tensorflow.keras.models import Sequential \n",
    "from tensorflow.keras.layers import Dense \n",
    "from tensorflow.keras.layers import LSTM "
   ]
  },
  {
   "cell_type": "code",
   "execution_count": 50,
   "id": "96817c52-1cd0-48a2-85e1-acb72c8f1c1d",
   "metadata": {},
   "outputs": [
    {
     "name": "stderr",
     "output_type": "stream",
     "text": [
      "C:\\Users\\Admin\\AppData\\Local\\Programs\\Python\\Python312\\Lib\\site-packages\\keras\\src\\layers\\rnn\\rnn.py:200: UserWarning: Do not pass an `input_shape`/`input_dim` argument to a layer. When using Sequential models, prefer using an `Input(shape)` object as the first layer in the model instead.\n",
      "  super().__init__(**kwargs)\n"
     ]
    }
   ],
   "source": [
    "model = Sequential() \n",
    "model.add(LSTM(50,return_sequences=True,input_shape=(100,1)))\n",
    "model.add(LSTM(50,return_sequences=True))\n",
    "model.add(LSTM(50))\n",
    "model.add(Dense(1)) \n",
    "model.compile(loss='mean_squared_error',optimizer='adam')          "
   ]
  },
  {
   "cell_type": "code",
   "execution_count": 51,
   "id": "f8910e2d-f6b8-44df-8fcd-ad5c16838c09",
   "metadata": {},
   "outputs": [
    {
     "data": {
      "text/html": [
       "<pre style=\"white-space:pre;overflow-x:auto;line-height:normal;font-family:Menlo,'DejaVu Sans Mono',consolas,'Courier New',monospace\"><span style=\"font-weight: bold\">Model: \"sequential\"</span>\n",
       "</pre>\n"
      ],
      "text/plain": [
       "\u001b[1mModel: \"sequential\"\u001b[0m\n"
      ]
     },
     "metadata": {},
     "output_type": "display_data"
    },
    {
     "data": {
      "text/html": [
       "<pre style=\"white-space:pre;overflow-x:auto;line-height:normal;font-family:Menlo,'DejaVu Sans Mono',consolas,'Courier New',monospace\">┏━━━━━━━━━━━━━━━━━━━━━━━━━━━━━━━━━━━━━━┳━━━━━━━━━━━━━━━━━━━━━━━━━━━━━┳━━━━━━━━━━━━━━━━━┓\n",
       "┃<span style=\"font-weight: bold\"> Layer (type)                         </span>┃<span style=\"font-weight: bold\"> Output Shape                </span>┃<span style=\"font-weight: bold\">         Param # </span>┃\n",
       "┡━━━━━━━━━━━━━━━━━━━━━━━━━━━━━━━━━━━━━━╇━━━━━━━━━━━━━━━━━━━━━━━━━━━━━╇━━━━━━━━━━━━━━━━━┩\n",
       "│ lstm (<span style=\"color: #0087ff; text-decoration-color: #0087ff\">LSTM</span>)                          │ (<span style=\"color: #00d7ff; text-decoration-color: #00d7ff\">None</span>, <span style=\"color: #00af00; text-decoration-color: #00af00\">100</span>, <span style=\"color: #00af00; text-decoration-color: #00af00\">50</span>)             │          <span style=\"color: #00af00; text-decoration-color: #00af00\">10,400</span> │\n",
       "├──────────────────────────────────────┼─────────────────────────────┼─────────────────┤\n",
       "│ lstm_1 (<span style=\"color: #0087ff; text-decoration-color: #0087ff\">LSTM</span>)                        │ (<span style=\"color: #00d7ff; text-decoration-color: #00d7ff\">None</span>, <span style=\"color: #00af00; text-decoration-color: #00af00\">100</span>, <span style=\"color: #00af00; text-decoration-color: #00af00\">50</span>)             │          <span style=\"color: #00af00; text-decoration-color: #00af00\">20,200</span> │\n",
       "├──────────────────────────────────────┼─────────────────────────────┼─────────────────┤\n",
       "│ lstm_2 (<span style=\"color: #0087ff; text-decoration-color: #0087ff\">LSTM</span>)                        │ (<span style=\"color: #00d7ff; text-decoration-color: #00d7ff\">None</span>, <span style=\"color: #00af00; text-decoration-color: #00af00\">50</span>)                  │          <span style=\"color: #00af00; text-decoration-color: #00af00\">20,200</span> │\n",
       "├──────────────────────────────────────┼─────────────────────────────┼─────────────────┤\n",
       "│ dense (<span style=\"color: #0087ff; text-decoration-color: #0087ff\">Dense</span>)                        │ (<span style=\"color: #00d7ff; text-decoration-color: #00d7ff\">None</span>, <span style=\"color: #00af00; text-decoration-color: #00af00\">1</span>)                   │              <span style=\"color: #00af00; text-decoration-color: #00af00\">51</span> │\n",
       "└──────────────────────────────────────┴─────────────────────────────┴─────────────────┘\n",
       "</pre>\n"
      ],
      "text/plain": [
       "┏━━━━━━━━━━━━━━━━━━━━━━━━━━━━━━━━━━━━━━┳━━━━━━━━━━━━━━━━━━━━━━━━━━━━━┳━━━━━━━━━━━━━━━━━┓\n",
       "┃\u001b[1m \u001b[0m\u001b[1mLayer (type)                        \u001b[0m\u001b[1m \u001b[0m┃\u001b[1m \u001b[0m\u001b[1mOutput Shape               \u001b[0m\u001b[1m \u001b[0m┃\u001b[1m \u001b[0m\u001b[1m        Param #\u001b[0m\u001b[1m \u001b[0m┃\n",
       "┡━━━━━━━━━━━━━━━━━━━━━━━━━━━━━━━━━━━━━━╇━━━━━━━━━━━━━━━━━━━━━━━━━━━━━╇━━━━━━━━━━━━━━━━━┩\n",
       "│ lstm (\u001b[38;5;33mLSTM\u001b[0m)                          │ (\u001b[38;5;45mNone\u001b[0m, \u001b[38;5;34m100\u001b[0m, \u001b[38;5;34m50\u001b[0m)             │          \u001b[38;5;34m10,400\u001b[0m │\n",
       "├──────────────────────────────────────┼─────────────────────────────┼─────────────────┤\n",
       "│ lstm_1 (\u001b[38;5;33mLSTM\u001b[0m)                        │ (\u001b[38;5;45mNone\u001b[0m, \u001b[38;5;34m100\u001b[0m, \u001b[38;5;34m50\u001b[0m)             │          \u001b[38;5;34m20,200\u001b[0m │\n",
       "├──────────────────────────────────────┼─────────────────────────────┼─────────────────┤\n",
       "│ lstm_2 (\u001b[38;5;33mLSTM\u001b[0m)                        │ (\u001b[38;5;45mNone\u001b[0m, \u001b[38;5;34m50\u001b[0m)                  │          \u001b[38;5;34m20,200\u001b[0m │\n",
       "├──────────────────────────────────────┼─────────────────────────────┼─────────────────┤\n",
       "│ dense (\u001b[38;5;33mDense\u001b[0m)                        │ (\u001b[38;5;45mNone\u001b[0m, \u001b[38;5;34m1\u001b[0m)                   │              \u001b[38;5;34m51\u001b[0m │\n",
       "└──────────────────────────────────────┴─────────────────────────────┴─────────────────┘\n"
      ]
     },
     "metadata": {},
     "output_type": "display_data"
    },
    {
     "data": {
      "text/html": [
       "<pre style=\"white-space:pre;overflow-x:auto;line-height:normal;font-family:Menlo,'DejaVu Sans Mono',consolas,'Courier New',monospace\"><span style=\"font-weight: bold\"> Total params: </span><span style=\"color: #00af00; text-decoration-color: #00af00\">50,851</span> (198.64 KB)\n",
       "</pre>\n"
      ],
      "text/plain": [
       "\u001b[1m Total params: \u001b[0m\u001b[38;5;34m50,851\u001b[0m (198.64 KB)\n"
      ]
     },
     "metadata": {},
     "output_type": "display_data"
    },
    {
     "data": {
      "text/html": [
       "<pre style=\"white-space:pre;overflow-x:auto;line-height:normal;font-family:Menlo,'DejaVu Sans Mono',consolas,'Courier New',monospace\"><span style=\"font-weight: bold\"> Trainable params: </span><span style=\"color: #00af00; text-decoration-color: #00af00\">50,851</span> (198.64 KB)\n",
       "</pre>\n"
      ],
      "text/plain": [
       "\u001b[1m Trainable params: \u001b[0m\u001b[38;5;34m50,851\u001b[0m (198.64 KB)\n"
      ]
     },
     "metadata": {},
     "output_type": "display_data"
    },
    {
     "data": {
      "text/html": [
       "<pre style=\"white-space:pre;overflow-x:auto;line-height:normal;font-family:Menlo,'DejaVu Sans Mono',consolas,'Courier New',monospace\"><span style=\"font-weight: bold\"> Non-trainable params: </span><span style=\"color: #00af00; text-decoration-color: #00af00\">0</span> (0.00 B)\n",
       "</pre>\n"
      ],
      "text/plain": [
       "\u001b[1m Non-trainable params: \u001b[0m\u001b[38;5;34m0\u001b[0m (0.00 B)\n"
      ]
     },
     "metadata": {},
     "output_type": "display_data"
    }
   ],
   "source": [
    "model.summary()"
   ]
  },
  {
   "cell_type": "code",
   "execution_count": 52,
   "id": "aa7b18e7-a064-4563-bb4e-e413e28ebea9",
   "metadata": {},
   "outputs": [
    {
     "name": "stdout",
     "output_type": "stream",
     "text": [
      "Epoch 1/4\n",
      "\u001b[1m9256/9256\u001b[0m \u001b[32m━━━━━━━━━━━━━━━━━━━━\u001b[0m\u001b[37m\u001b[0m \u001b[1m3297s\u001b[0m 347ms/step - loss: 3.0809e-04 - val_loss: 1.9868e-04\n",
      "Epoch 2/4\n",
      "\u001b[1m9256/9256\u001b[0m \u001b[32m━━━━━━━━━━━━━━━━━━━━\u001b[0m\u001b[37m\u001b[0m \u001b[1m30385s\u001b[0m 3s/step - loss: 2.8815e-04 - val_loss: 1.9644e-04\n",
      "Epoch 3/4\n",
      "\u001b[1m9256/9256\u001b[0m \u001b[32m━━━━━━━━━━━━━━━━━━━━\u001b[0m\u001b[37m\u001b[0m \u001b[1m4052s\u001b[0m 438ms/step - loss: 3.0338e-04 - val_loss: 1.9177e-04\n",
      "Epoch 4/4\n",
      "\u001b[1m9256/9256\u001b[0m \u001b[32m━━━━━━━━━━━━━━━━━━━━\u001b[0m\u001b[37m\u001b[0m \u001b[1m2426s\u001b[0m 262ms/step - loss: 2.9976e-04 - val_loss: 1.8992e-04\n"
     ]
    },
    {
     "data": {
      "text/plain": [
       "<keras.src.callbacks.history.History at 0x2e61eaf4a40>"
      ]
     },
     "execution_count": 52,
     "metadata": {},
     "output_type": "execute_result"
    }
   ],
   "source": [
    "model.fit(X_train,y_train,validation_data=(X_test,y_test),epochs=4,batch_size=64,verbose=1)"
   ]
  },
  {
   "cell_type": "code",
   "execution_count": 53,
   "id": "b4538450-a349-4405-896f-da97fa3a8f37",
   "metadata": {},
   "outputs": [
    {
     "name": "stdout",
     "output_type": "stream",
     "text": [
      "\u001b[1m7932/7932\u001b[0m \u001b[32m━━━━━━━━━━━━━━━━━━━━\u001b[0m\u001b[37m\u001b[0m \u001b[1m350s\u001b[0m 44ms/step - loss: 1.8681e-04\n"
     ]
    },
    {
     "data": {
      "text/plain": [
       "0.000189918078831397"
      ]
     },
     "execution_count": 53,
     "metadata": {},
     "output_type": "execute_result"
    }
   ],
   "source": [
    "model.evaluate(X_test,y_test)"
   ]
  },
  {
   "cell_type": "code",
   "execution_count": null,
   "id": "61d36d5c-1aef-4dba-a86d-06a27335caf2",
   "metadata": {},
   "outputs": [],
   "source": []
  }
 ],
 "metadata": {
  "kernelspec": {
   "display_name": "Python 3.12",
   "language": "python",
   "name": "python312"
  },
  "language_info": {
   "codemirror_mode": {
    "name": "ipython",
    "version": 3
   },
   "file_extension": ".py",
   "mimetype": "text/x-python",
   "name": "python",
   "nbconvert_exporter": "python",
   "pygments_lexer": "ipython3",
   "version": "3.12.8"
  }
 },
 "nbformat": 4,
 "nbformat_minor": 5
}
