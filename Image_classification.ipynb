{
 "cells": [
  {
   "cell_type": "code",
   "execution_count": 6,
   "id": "f4262141-93ef-4451-ab9c-f8e0824c9ccb",
   "metadata": {},
   "outputs": [],
   "source": [
    "import tensorflow as tf\n",
    "import keras \n",
    "import numpy as np "
   ]
  },
  {
   "cell_type": "code",
   "execution_count": 7,
   "id": "941dadc6-a5af-4e7e-b0bc-3a0e06bf42ed",
   "metadata": {},
   "outputs": [],
   "source": [
    "from tensorflow.keras import layers , models\n",
    "from tensorflow.keras.preprocessing.image import ImageDataGenerator \n",
    "import os\n",
    "from sklearn.model_selection import train_test_split"
   ]
  },
  {
   "cell_type": "code",
   "execution_count": 8,
   "id": "020ba8ad-8cbc-4bad-87bc-1b517c43b191",
   "metadata": {},
   "outputs": [],
   "source": [
    "image_path = r'C:\\Users\\Admin\\Desktop\\JN\\Deep Learning\\Cat_Dog'\n",
    "IMAGE_WIDTH = 150\n",
    "IMAGE_HEIGHT = 150\n",
    "BATCH_SIZE = 32\n",
    "EPOCHS = 10\n",
    "NUM_CLASSES = 2"
   ]
  },
  {
   "cell_type": "code",
   "execution_count": null,
   "id": "78636da1-8eee-42aa-b239-ef355e4eacb8",
   "metadata": {},
   "outputs": [],
   "source": []
  },
  {
   "cell_type": "code",
   "execution_count": 9,
   "id": "05034fd1-8be7-4848-86c9-0ba732dbc827",
   "metadata": {},
   "outputs": [
    {
     "name": "stdout",
     "output_type": "stream",
     "text": [
      "Found 40 images belonging to 4 classes.\n",
      "Found 10 images belonging to 4 classes.\n",
      "Creating model...\n"
     ]
    },
    {
     "name": "stderr",
     "output_type": "stream",
     "text": [
      "C:\\Users\\Admin\\AppData\\Local\\Programs\\Python\\Python312\\Lib\\site-packages\\keras\\src\\layers\\convolutional\\base_conv.py:107: UserWarning: Do not pass an `input_shape`/`input_dim` argument to a layer. When using Sequential models, prefer using an `Input(shape)` object as the first layer in the model instead.\n",
      "  super().__init__(activity_regularizer=activity_regularizer, **kwargs)\n"
     ]
    }
   ],
   "source": [
    "train_datagen = ImageDataGenerator(\n",
    "    rescale= 1./255, \n",
    "    rotation_range=20, \n",
    "    width_shift_range=0.2,\n",
    "    height_shift_range=0.2, \n",
    "    horizontal_flip=True, \n",
    "    validation_split=0.2\n",
    ")\n",
    "\n",
    "train_generator = train_datagen.flow_from_directory(\n",
    "    image_path,\n",
    "    target_size=(IMAGE_HEIGHT,IMAGE_WIDTH), \n",
    "    batch_size= BATCH_SIZE,\n",
    "    class_mode='binary', \n",
    "    subset='training'\n",
    ")\n",
    "\n",
    "validation_generator = train_datagen.flow_from_directory(\n",
    "    image_path, \n",
    "    target_size= (IMAGE_HEIGHT,IMAGE_WIDTH),\n",
    "    batch_size=BATCH_SIZE, \n",
    "    class_mode='binary', \n",
    "    subset='validation'\n",
    ")\n",
    "\n",
    "print('Creating model...')\n",
    "model = models.Sequential([\n",
    "    layers.Conv2D(32,(3,3), activation='relu', input_shape=(IMAGE_HEIGHT,IMAGE_WIDTH,3)), \n",
    "    layers.MaxPooling2D((2,2)), \n",
    "    layers.Conv2D(64,(3,3),activation='relu'), \n",
    "    layers.MaxPooling2D((2,2)), \n",
    "    layers.Conv2D(64, (3, 3), activation='relu'), \n",
    "    layers.Flatten(), \n",
    "    layers.Dense(64,activation='relu'), \n",
    "    layers.Dense(1,activation='sigmoid')\n",
    "                ])\n",
    "\n"
   ]
  },
  {
   "cell_type": "code",
   "execution_count": 10,
   "id": "66cb1fd5-53e9-4dec-86bf-21a2f613b840",
   "metadata": {},
   "outputs": [],
   "source": [
    "model.compile(optimizer='adam',\n",
    "              loss='binary_crossentropy',\n",
    "              metrics=['accuracy'])\n"
   ]
  },
  {
   "cell_type": "code",
   "execution_count": 11,
   "id": "3dd10c02-07b8-4b32-9da6-ea2de5c5c790",
   "metadata": {},
   "outputs": [
    {
     "name": "stdout",
     "output_type": "stream",
     "text": [
      "Training the model...\n"
     ]
    },
    {
     "name": "stderr",
     "output_type": "stream",
     "text": [
      "C:\\Users\\Admin\\AppData\\Local\\Programs\\Python\\Python312\\Lib\\site-packages\\keras\\src\\trainers\\data_adapters\\py_dataset_adapter.py:121: UserWarning: Your `PyDataset` class should call `super().__init__(**kwargs)` in its constructor. `**kwargs` can include `workers`, `use_multiprocessing`, `max_queue_size`. Do not pass these arguments to `fit()`, as they will be ignored.\n",
      "  self._warn_if_super_not_called()\n"
     ]
    },
    {
     "name": "stdout",
     "output_type": "stream",
     "text": [
      "Epoch 1/10\n",
      "\u001b[1m1/1\u001b[0m \u001b[32m━━━━━━━━━━━━━━━━━━━━\u001b[0m\u001b[37m\u001b[0m \u001b[1m4s\u001b[0m 4s/step - accuracy: 0.5000 - loss: 0.6925 - val_accuracy: 0.6000 - val_loss: 4.2209\n",
      "Epoch 2/10\n",
      "\u001b[1m1/1\u001b[0m \u001b[32m━━━━━━━━━━━━━━━━━━━━\u001b[0m\u001b[37m\u001b[0m \u001b[1m0s\u001b[0m 399ms/step - accuracy: 0.5000 - loss: 6.3093 - val_accuracy: 0.6000 - val_loss: 0.6492\n",
      "Epoch 3/10\n",
      "\u001b[1m1/1\u001b[0m \u001b[32m━━━━━━━━━━━━━━━━━━━━\u001b[0m\u001b[37m\u001b[0m \u001b[1m1s\u001b[0m 954ms/step - accuracy: 0.5312 - loss: 0.8001 - val_accuracy: 0.4000 - val_loss: 1.6397\n",
      "Epoch 4/10\n",
      "\u001b[1m1/1\u001b[0m \u001b[32m━━━━━━━━━━━━━━━━━━━━\u001b[0m\u001b[37m\u001b[0m \u001b[1m1s\u001b[0m 569ms/step - accuracy: 0.1250 - loss: 2.5958 - val_accuracy: 0.4000 - val_loss: 0.9167\n",
      "Epoch 5/10\n",
      "\u001b[1m1/1\u001b[0m \u001b[32m━━━━━━━━━━━━━━━━━━━━\u001b[0m\u001b[37m\u001b[0m \u001b[1m1s\u001b[0m 972ms/step - accuracy: 0.4062 - loss: 0.9143 - val_accuracy: 0.4000 - val_loss: 0.7248\n",
      "Epoch 6/10\n",
      "\u001b[1m1/1\u001b[0m \u001b[32m━━━━━━━━━━━━━━━━━━━━\u001b[0m\u001b[37m\u001b[0m \u001b[1m0s\u001b[0m 435ms/step - accuracy: 0.3750 - loss: 0.7242 - val_accuracy: 0.4000 - val_loss: 0.6987\n",
      "Epoch 7/10\n",
      "\u001b[1m1/1\u001b[0m \u001b[32m━━━━━━━━━━━━━━━━━━━━\u001b[0m\u001b[37m\u001b[0m \u001b[1m0s\u001b[0m 486ms/step - accuracy: 0.5000 - loss: 0.6835 - val_accuracy: 0.8000 - val_loss: 0.6915\n",
      "Epoch 8/10\n",
      "\u001b[1m1/1\u001b[0m \u001b[32m━━━━━━━━━━━━━━━━━━━━\u001b[0m\u001b[37m\u001b[0m \u001b[1m1s\u001b[0m 677ms/step - accuracy: 0.6250 - loss: 0.6875 - val_accuracy: 0.6000 - val_loss: 0.6777\n",
      "Epoch 9/10\n",
      "\u001b[1m1/1\u001b[0m \u001b[32m━━━━━━━━━━━━━━━━━━━━\u001b[0m\u001b[37m\u001b[0m \u001b[1m0s\u001b[0m 490ms/step - accuracy: 0.6250 - loss: 0.6709 - val_accuracy: 0.6000 - val_loss: 0.6687\n",
      "Epoch 10/10\n",
      "\u001b[1m1/1\u001b[0m \u001b[32m━━━━━━━━━━━━━━━━━━━━\u001b[0m\u001b[37m\u001b[0m \u001b[1m1s\u001b[0m 728ms/step - accuracy: 0.5938 - loss: 0.6791 - val_accuracy: 0.6000 - val_loss: 0.6563\n"
     ]
    }
   ],
   "source": [
    "print(\"Training the model...\")\n",
    "history = model.fit(\n",
    "    train_generator,\n",
    "    steps_per_epoch=train_generator.samples // BATCH_SIZE,\n",
    "    epochs=EPOCHS,\n",
    "    validation_data=validation_generator,\n",
    "    validation_steps=validation_generator.samples // BATCH_SIZE\n",
    ")"
   ]
  },
  {
   "cell_type": "code",
   "execution_count": null,
   "id": "7b44b7f0-292d-4759-a72d-756bb6fc5370",
   "metadata": {},
   "outputs": [],
   "source": []
  },
  {
   "cell_type": "code",
   "execution_count": 12,
   "id": "291bd425-874f-4b36-a021-a70f3d536e7e",
   "metadata": {},
   "outputs": [
    {
     "name": "stdout",
     "output_type": "stream",
     "text": [
      "\u001b[1m1/1\u001b[0m \u001b[32m━━━━━━━━━━━━━━━━━━━━\u001b[0m\u001b[37m\u001b[0m \u001b[1m0s\u001b[0m 162ms/step - accuracy: 0.6000 - loss: 0.6475\n",
      "Test Loss: 0.6474803686141968\n",
      "Test Accuracy: 0.6000000238418579\n"
     ]
    }
   ],
   "source": [
    "test_loss, test_accuracy = model.evaluate(validation_generator)\n",
    "print(f\"Test Loss: {test_loss}\")\n",
    "print(f\"Test Accuracy: {test_accuracy}\")"
   ]
  },
  {
   "cell_type": "code",
   "execution_count": null,
   "id": "82310484-3c98-4a46-a283-e20fb3c0f1a9",
   "metadata": {},
   "outputs": [],
   "source": []
  }
 ],
 "metadata": {
  "kernelspec": {
   "display_name": "Python 3.12",
   "language": "python",
   "name": "python312"
  },
  "language_info": {
   "codemirror_mode": {
    "name": "ipython",
    "version": 3
   },
   "file_extension": ".py",
   "mimetype": "text/x-python",
   "name": "python",
   "nbconvert_exporter": "python",
   "pygments_lexer": "ipython3",
   "version": "3.12.8"
  }
 },
 "nbformat": 4,
 "nbformat_minor": 5
}
